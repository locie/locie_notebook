{
 "cells": [
  {
   "cell_type": "markdown",
   "metadata": {},
   "source": [
    "# Unlock the power of your computer with multiprocessing computation\n",
    "\n",
    "## Process, threads?\n",
    "\n",
    "Threads are sequence of programmed instructions that can be managed independently by the os. They share the memory space (so we have to be carefull and ensure thread safety, in order to avoid two threads writing in the same emplacement at the same time), and they are the common way to deal with asynchrone computation and to improve performance when the machine has more than one CPU.\n",
    "\n",
    "Processes are instance of a computer program that is executed. They do not share memory and require special object to share information, objects as queue, shared objects, pipes, semaphores... They are heavier than the threads, but are safer due to the lack of common memory space.\n",
    "\n",
    "## Multiprocessing / threading in python\n",
    "\n",
    "Due to the [GIL (Global interpreter lock)](https://wiki.python.org/moin/GlobalInterpreterLock),   multiple threads cannot execute Python bytecodes at once. It reduced the usefullness of threading : only the function that release the GIL can run at the same time. It's the case for I/O operations (web protocol requests as http/ftp, on-disk reading / writing), and for most numpy operations that rely on C routines.\n",
    "\n",
    "That's why, in the Python ecosystem, multiprocessing is prefered over threading. NB: some trial has been made to take the GIL away from CPython, and led to drastic performance regression ([more info](http://python-notes.curiousefficiency.org/en/latest/python3/multicore_python.html)).\n",
    "\n",
    "Python has a nice standard library that allow multiprocessing computation. It's called [`multiprocessing`]. Good to know: the library [`threading`] is for multiple threads computation and has a very similar API, even if the tendancy is to used [asyncio](https://docs.python.org/3/library/asyncio.html) based library to deal with I/O operations.\n",
    "\n",
    "Some libraries allow abstraction that help multiprocessing computation, as joblib (part of the sklearn ecosystem), [`concurrent.futures`] (in the stdlib, allow future-based API), [`distributed`] (part of the dask ecosystem and allow local and distributed computation that can live on other computers) and so on... I will focus on the stdlib [`multiprocessing`] first, then have few words on the other tools.\n",
    "\n",
    "[`multiprocessing`]: https://docs.python.org/3/library/multiprocessing.html?highlight=multiprocessing#module-multiprocessing\n",
    "\n",
    "[`threading`]: https://docs.python.org/3/library/threading.html?highlight=threading#module-threading\n",
    "\n",
    "[`concurrent.futures`]: https://docs.python.org/3/library/concurrent.futures.html?highlight=futures#module-concurrent.futures\n",
    "\n",
    "[`distributed`]: https://distributed.readthedocs.io/en/latest/\n",
    "\n",
    "## Multiprocessing usage\n",
    "\n",
    "### Process object\n",
    "\n",
    "A process object represent a processus that can be started and run a function. It can be initialized in two different way:\n",
    "\n",
    "- directly by passing a target function that will be ran by the process\n",
    "- by writing a child object with a `run` method.\n",
    "\n",
    "The latter is usefull for complexe cases.\n",
    "\n",
    "The processes objets have some useful methods. Some of there:\n",
    "\n",
    "- start() will start the process. This is a non-blocking method\n",
    "- join() will wait that the process finish his job.\n",
    "- terminate() will send a sigterm to the process: it will be gently terminated.\n",
    "- is_alive() return True if the process is alive, False otherwise\n",
    "\n",
    "For example, these two snippets do exactly the same thing :\n"
   ]
  },
  {
   "cell_type": "code",
   "execution_count": 14,
   "metadata": {},
   "outputs": [],
   "source": [
    "import multiprocessing as mp\n",
    "from time import sleep"
   ]
  },
  {
   "cell_type": "code",
   "execution_count": 42,
   "metadata": {},
   "outputs": [],
   "source": [
    "def a_long_running_function(time):\n",
    "    sleep(time)\n",
    "    return time"
   ]
  },
  {
   "cell_type": "code",
   "execution_count": 30,
   "metadata": {},
   "outputs": [
    {
     "name": "stdout",
     "output_type": "stream",
     "text": [
      "before join, process.is_alive: True\n",
      "10\n",
      "after join, process.is_alive: False\n"
     ]
    }
   ],
   "source": [
    "# These lines are not blocking\n",
    "process = mp.Process(target=a_long_running_function, args=(10, ))\n",
    "process.start()\n",
    "\n",
    "# These one will block until `a_long_running_function` is over\n",
    "print(\"before join, process.is_alive: %s\" % process.is_alive())\n",
    "process.join()\n",
    "print(\"after join, process.is_alive: %s\" % process.is_alive())"
   ]
  },
  {
   "cell_type": "code",
   "execution_count": 22,
   "metadata": {},
   "outputs": [
    {
     "name": "stdout",
     "output_type": "stream",
     "text": [
      "before join: True\n",
      "10\n",
      "after join: False\n"
     ]
    }
   ],
   "source": [
    "# These lines are not blocking\n",
    "class ALongRunningProcess(mp.Process):\n",
    "    def __init__(self, *args):\n",
    "        super().__init__()\n",
    "        self._args = args\n",
    "    def run(self):\n",
    "        a_long_running_function(*self._args)\n",
    "\n",
    "process = ALongRunningProcess(10)\n",
    "process.start()\n",
    "\n",
    "# These one will block until `a_long_running_function` is over\n",
    "print(\"before join, process.is_alive: %s\" % process.is_alive())\n",
    "process.join()\n",
    "print(\"after join, process.is_alive: %s\" % process.is_alive())"
   ]
  },
  {
   "cell_type": "markdown",
   "metadata": {},
   "source": [
    "### Pool object\n",
    "\n",
    "Often, we do not want a complex workflow with a lot of different processes sharing informations. We just want N independant computation of the same function with different inputs. In that case, managing by ourself the processes can be harmful, and it's worst considering that we should avoid to restart a process each time because it add some overhead.\n",
    "\n",
    "There come the Pool object : it's a pool of N processes (often the same number as the machine CPU) that can be fed with tasks (function and input), one by one, or with a range of parameters.\n",
    "\n",
    "That way:"
   ]
  },
  {
   "cell_type": "code",
   "execution_count": 45,
   "metadata": {},
   "outputs": [
    {
     "name": "stdout",
     "output_type": "stream",
     "text": [
      "future object: <multiprocessing.pool.ApplyResult object at 0x7f5d10a83048>\n",
      "future.get(): 5\n",
      "results: [5, 5, 5, 5, 5, 5, 5, 5, 5, 5, 5, 5, 5, 5, 5, 5, 5, 5, 5, 5, 5, 5, 5, 5, 5, 5, 5, 5, 5, 5, 5, 5]\n",
      "futures: <multiprocessing.pool.MapResult object at 0x7f5d10a1b358>\n",
      "futures.get: [5, 5, 5, 5, 5, 5, 5, 5, 5, 5, 5, 5, 5, 5, 5, 5, 5, 5, 5, 5, 5, 5, 5, 5, 5, 5, 5, 5, 5, 5, 5, 5]\n"
     ]
    }
   ],
   "source": [
    "with mp.Pool() as p:\n",
    "    # A future is a result that we expect.\n",
    "    future = p.apply_async(a_long_running_function, args=(5, ))\n",
    "    print(\"future object: %s\" % future)\n",
    "    # We have to use the get method: otherwise,\n",
    "    # the pool will be closed before we obtain the result\n",
    "    # We can use the wait method too: in that case, the result is not returned\n",
    "    result = future.get()\n",
    "    print(\"future.get(): %s\" % result)\n",
    "    # The map allow to run multiple time the function over a range on inputs\n",
    "    # then return the result as a list. It can be blocking or not.\n",
    "    # If it's async, it will return a MapResult, an equivalent of the future for\n",
    "    # multiple results.\n",
    "    results = p.map(a_long_running_function, [5] * mp.cpu_count())\n",
    "    print(\"results: %s\" % results)\n",
    "    futures = p.map_async(a_long_running_function, [5] * mp.cpu_count())\n",
    "    print(\"futures: %s\" % futures)\n",
    "    print(\"futures.get: %s\" % futures.get())"
   ]
  },
  {
   "cell_type": "markdown",
   "metadata": {},
   "source": [
    "### Sharing information between processes"
   ]
  },
  {
   "cell_type": "markdown",
   "metadata": {},
   "source": [
    "## Other tools for multiprocessing computation"
   ]
  }
 ],
 "metadata": {
  "kernelspec": {
   "display_name": "Python 3",
   "language": "python",
   "name": "python3"
  },
  "language_info": {
   "codemirror_mode": {
    "name": "ipython",
    "version": 3
   },
   "file_extension": ".py",
   "mimetype": "text/x-python",
   "name": "python",
   "nbconvert_exporter": "python",
   "pygments_lexer": "ipython3",
   "version": "3.6.5"
  }
 },
 "nbformat": 4,
 "nbformat_minor": 2
}
