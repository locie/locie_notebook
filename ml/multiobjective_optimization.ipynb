{
 "cells": [
  {
   "cell_type": "markdown",
   "metadata": {},
   "source": [
    "![LOCIE Logo](https://www.locie.univ-smb.fr/wp-content/uploads/2017/10/locie-logo-horiz.png \"LOCIE\")\n",
    "# <center> Using DEAP to do multiobjective optimization with NSGA2</center>\n",
    "\n",
    "1st release of this notebook, still in progress though. If you have any suggestion to improve it, please let me know or PR it  on github !\n",
    "\n",
    "## Context\n",
    "At LOCIE Lab, the project Réha-Parcs aims to apply multi-objective optimization on building stock. Bibliography tended to pick Genetic Algorithm to optimize.\n",
    "In the field of building physics, the algorithm NSGA2 is widely used because it is know as stable and results are good in term of convergence and diversity.\n",
    "\n",
    "A good implementation of NSGA2 is available in the library DEAP. This library makes possible to do complex many objective optimization and to use a lot of different algorithm pretty easily.\n",
    "\n",
    "The aim of this notebook is to provide PhD student at LOCIE with a cheatsheet to launch quickly an optimization with this algorithm with some explanation on the code. It is freely based on the example provided by the developpers of DEAP for the algorithm NSGA2 since their code is pretty short and efficient. I tried to provide more explanations and my small experience on this example here. \n",
    "\n",
    "Some prior knowledge about how NSGA-II is working is needed as this notebook is focusing on its implementation."
   ]
  },
  {
   "cell_type": "markdown",
   "metadata": {},
   "source": [
    "## Initialization of the Algorithm"
   ]
  },
  {
   "cell_type": "code",
   "execution_count": null,
   "metadata": {},
   "outputs": [],
   "source": [
    "import random\n",
    "import datetime\n",
    "\n",
    "import multiprocessing\n",
    "import numpy as np\n",
    "\n",
    "from deap import base\n",
    "from deap import creator\n",
    "from deap import tools\n",
    "\n",
    "### If your evaluation function is external...\n",
    "# import YourEvaluationFunction as evaluation"
   ]
  },
  {
   "cell_type": "markdown",
   "metadata": {},
   "source": [
    "Let's import stuff...\n",
    "\n",
    "Here 3 main components of DEAP are imported:\n",
    "- `base` contains all of the base classes and the toolbox generator\n",
    "- the `creator` enable to generate objects like individuals or population\n",
    "- `tools` contains built-in function related to optimisation such as selection tournament for the best individuals or crossover and mutation operators\n",
    "\n",
    "We will need constant as parameter of the algorithm:"
   ]
  },
  {
   "cell_type": "code",
   "execution_count": null,
   "metadata": {},
   "outputs": [],
   "source": [
    "NGEN = 50 # Number of Generation\n",
    "MU = 100 # Number of individual in population\n",
    "CXPB = 0.8 #Crossover probability\n",
    "\n",
    "NDIM = 4 # Number of dimension of the individual (=number of gene)\n",
    "\n",
    "# Bounds on the first 3 genes\n",
    "LOW1, UP1 = 0, 28\n",
    "# Bounds on the last gene\n",
    "LOW2, UP2 = 0, 5\n",
    "\n",
    "BOUNDS = [(LOW1, UP1) for i in range(NDIM-1)] + [(LOW2, UP2)]"
   ]
  },
  {
   "cell_type": "markdown",
   "metadata": {},
   "source": [
    "## Toolboxes, creators... it's quite DEAP-specific, but powerful !"
   ]
  },
  {
   "cell_type": "code",
   "execution_count": null,
   "metadata": {},
   "outputs": [],
   "source": [
    "toolbox = base.Toolbox()\n",
    "\n",
    "def init_opti():\n",
    "    creator.create(\"FitnessMin\", base.Fitness, weights=(-1.0, -1.0, -1.0))\n",
    "    creator.create(\"Individual\", list, typecode='d', fitness=creator.FitnessMin)\n",
    "    \n",
    "    toolbox.register(\"individual\", init_ind, icls=creator.Individual, ranges=BOUNDS)\n",
    "    toolbox.register(\"population\", tools.initRepeat, list, toolbox.individual)\n",
    "\n",
    "    toolbox.register(\"evaluate\", evaluation)\n",
    "    toolbox.register(\"mate\", tools.cxOnePoint)\n",
    "    toolbox.register(\"mutate\", tools.mutUniformInt, low=[x[0] for x in BOUNDS],\n",
    "                     up=[x[1] for x in BOUNDS], indpb=0.1 / NDIM)\n",
    "    toolbox.register(\"select\", tools.selNSGA2)"
   ]
  },
  {
   "cell_type": "markdown",
   "metadata": {},
   "source": [
    "DEAP is based on toolbox: each toolbox is a component of the algorithm. Here 2 `creators` are used and the first one is important because it's creating the attribute fitness for each individual. Moreover, the tuple `weights` has as many element as the evaluation function has objectives. Here, it means that we will minimize (because `weights` are negative) 3 objectives. Should you wish to had an objective, you must had a term to this tuple otherwise it won't be taken into account (it happened to me !)\n",
    "\n",
    "Afterwards in the code are created toolboxes that choose the characteristic of the optimization such as the definition of the individual, the evaluation function, mutation and crossover operators and selection operator.\n",
    "\n",
    "NSGA2 is used for the selection tournament described by Deb. I used a classic crossing operator in one point in this example. THe mutation operator has the bounds for each gene of the individual as parameters, otherwise it can mutate out of bounds and create an error in the evaluation function."
   ]
  },
  {
   "cell_type": "code",
   "execution_count": null,
   "metadata": {},
   "outputs": [],
   "source": [
    "def init_ind(icls, ranges):\n",
    "    genome = list()\n",
    "    \n",
    "    for p in ranges:\n",
    "        genome.append(np.random.randint(*p))\n",
    "    return icls(genome)"
   ]
  },
  {
   "cell_type": "markdown",
   "metadata": {},
   "source": [
    "You will need to initialize the population. The individual toolbox features an individual creator that transforms a list into an individual object: it is this *icls* function. The initialization can be done in various way depending on what is needing in input for the evaluation function. Here it need integers in the bounds predefined earlier."
   ]
  },
  {
   "cell_type": "markdown",
   "metadata": {},
   "source": [
    "## Launching the optimization: where the magic happens\n",
    "\n",
    "My main function is long, I should factorize it but for now here it is. Comments and explanation are coming just after !"
   ]
  },
  {
   "cell_type": "code",
   "execution_count": null,
   "metadata": {},
   "outputs": [],
   "source": [
    "def main():\n",
    "    pareto = tools.ParetoFront()\n",
    "\n",
    "    pop = toolbox.population(n=MU)\n",
    "    graph = []\n",
    "    data = []\n",
    "\n",
    "    # Evaluate the individuals with an invalid fitness\n",
    "    invalid_ind = [ind for ind in pop if not ind.fitness.valid]\n",
    "    fitnesses = toolbox.map(toolbox.evaluate, invalid_ind)\n",
    "    data.append(fitnesses)\n",
    "    for ind, fit in zip(invalid_ind, fitnesses):\n",
    "        ind.fitness.values = fit\n",
    "        graph.append(ind.fitness.values)\n",
    "\n",
    "    # This is just to assign the crowding distance to the individuals\n",
    "    # no actual selection is done\n",
    "    pop = toolbox.select(pop, len(pop))\n",
    "\n",
    "    # Begin the generational process\n",
    "    for gen in range(1, NGEN):\n",
    "        # Vary the population\n",
    "        offspring = tools.selTournamentDCD(pop, len(pop))\n",
    "        offspring = [toolbox.clone(ind) for ind in offspring]\n",
    "\n",
    "        for ind1, ind2 in zip(offspring[::2], offspring[1::2]):\n",
    "            if random.random() <= CXPB:\n",
    "                toolbox.mate(ind1, ind2)\n",
    "                \n",
    "            toolbox.mutate(ind1)\n",
    "            toolbox.mutate(ind2)\n",
    "            del ind1.fitness.values, ind2.fitness.values\n",
    "\n",
    "        # Evaluate the individuals with an invalid fitness\n",
    "        invalid_ind = [ind for ind in offspring if not ind.fitness.valid]\n",
    "        fitnesses = toolbox.map(toolbox.evaluate, invalid_ind)\n",
    "        data.append(fitnesses)\n",
    "        \n",
    "        for ind, fit in zip(invalid_ind, fitnesses):\n",
    "            ind.fitness.values = fit\n",
    "            graph.append(ind.fitness.values)\n",
    "\n",
    "        # Select the next generation population\n",
    "        pop = toolbox.select(pop + offspring, MU)\n",
    "\n",
    "    pareto.update(pop)\n",
    "\n",
    "    return pop, pareto, graph, data"
   ]
  },
  {
   "cell_type": "markdown",
   "metadata": {},
   "source": [
    "A lot of code lines here, but not much really hard to understand.\n",
    "\n",
    "On the first line, a Pareto object is created to store individuals that belong to the first order front. Then 6 lines of code enable to check wether the fitness associated with each individual is valid and if not to evaluate the individual and attribute the fitness.\n",
    "\n",
    "Then the algorithm selects each pair of individual in the order and mutate them and do some crossover after comparing them and selecting the best one.\n",
    "\n",
    "The code is not that DEAP specific and is self-sufficient for the rest of the process."
   ]
  },
  {
   "cell_type": "markdown",
   "metadata": {},
   "source": [
    "## Evaluation function\n",
    "This is wrong, but here is a way to test the code: I created a fast computing random evaluation function. It works but there will no evolutionary process involved as the function is not consistent."
   ]
  },
  {
   "cell_type": "code",
   "execution_count": null,
   "metadata": {},
   "outputs": [],
   "source": [
    "def evaluation(ind):\n",
    "    objective1 = random.randint(10,1000)\n",
    "    objective2 = random.randint(10,50)\n",
    "    objective3 = random.randint(200,500)\n",
    "    \n",
    "    return objective1, objective2, objective3"
   ]
  },
  {
   "cell_type": "markdown",
   "metadata": {},
   "source": [
    "Please replace that with the evaluation function you want ! \n",
    "\n",
    "In Réha-Parcs project, we use a thermal simulation function to get the energy demand of a building and a comfort criteria claculated by the simulation."
   ]
  },
  {
   "cell_type": "markdown",
   "metadata": {},
   "source": [
    "## Last but not least: let's launch it\n",
    "I did set it to do multiprocessing for the example, mainly to show that it was integrated in a toolbox in DEAP: thanks to the developers for making it so easy ! Be careful to start your pool after the creation of your `creator` objects, otherwise they won't be taken into account in the pool.\n",
    "\n",
    "For more on the multiprocessing in Python, please refer to this notebook: [\n",
    "Unlock the power of your computer with multiprocessing computation](https://github.com/locie/locie_notebook/blob/master/base_python/multiprocessing.ipynb \"Some really interesting content about multiprocessing\")"
   ]
  },
  {
   "cell_type": "code",
   "execution_count": null,
   "metadata": {},
   "outputs": [],
   "source": [
    "if __name__ == \"__main__\":\n",
    "    init_opti()\n",
    "#    Multiprocessing pool: I want to compute faster\n",
    "    pool = multiprocessing.Pool()\n",
    "    toolbox.register(\"map\", pool.map)\n",
    "    \n",
    "    pop, optimal_front, graph_data, data = main()\n",
    "\n",
    "    # Saving the Pareto Front, for further exploitation\n",
    "    with open('./pareto_front.txt', 'w') as front:\n",
    "        for ind in optimal_front:\n",
    "            front.write(str(ind.fitness) + '\\n')            "
   ]
  },
  {
   "cell_type": "markdown",
   "metadata": {},
   "source": [
    "If you would like to plot your pareto front it is possible as well pretty easily with the datas provided."
   ]
  },
  {
   "cell_type": "code",
   "execution_count": null,
   "metadata": {},
   "outputs": [],
   "source": [
    "import matplotlib.pyplot as plt\n",
    "x, y, z = zip(*[ind.fitness.values for ind in optimal_front])\n",
    "\n",
    "fig = plt.figure()\n",
    "fig.set_size_inches(15,10)\n",
    "\n",
    "axe = plt.subplot2grid((2,2),(0,0))\n",
    "axe.set_ylabel('Objective 2', fontsize=15)\n",
    "axe.scatter(x, y, c='b', marker='+')\n",
    "\n",
    "axe = plt.subplot2grid((2,2),(1,0))\n",
    "axe.set_ylabel('Objective 3', fontsize=15)\n",
    "axe.set_xlabel('Objective 1', fontsize=15)\n",
    "axe.scatter(x, z, c='b', marker='+')\n",
    "\n",
    "axe = plt.subplot2grid((2,2),(1,1))\n",
    "axe.set_xlabel('Objective 2', fontsize=15)\n",
    "scat = axe.scatter(y, z, c='b', marker='+')\n",
    "\n",
    "plt.show()"
   ]
  },
  {
   "cell_type": "markdown",
   "metadata": {},
   "source": [
    "This is made to launch the optimization and write down the pareto front for further exploitation. There is still other variables that are not exploited: it actually depends on what is the plan after the application of multi-objective optimization."
   ]
  },
  {
   "cell_type": "markdown",
   "metadata": {},
   "source": [
    "## Conclusion\n",
    "\n",
    "This is still in progress but here is a quick way to launch and understand a bit better how the library DEAP works.\n",
    "Do ask for further details as I would like to update this notebook with technical points that are a bit tricky to understand.\n",
    "\n",
    "And if you are trying to optimize building retrofit, please check on the Reha-Parcs project: we are trying to do the same here !\n",
    "\n",
    "\n",
    "## References\n",
    "Deb, Kalyanmoy, Amrit Pratap, Sameer Agarwal, and T. Meyarivan. 2002. “A Fast and Elitist Multiobjective Genetic Algorithm: NSGA-II.” IEEE Transactions on Evolutionary Computation 6 (2): 182–97. https://doi.org/10.1109/4235.996017.\n",
    "\n",
    "Fortin, Félix-Antoine, François-Michel De Rainville, Marc-André Gardner, Marc Parizeau, and Christian Gagné. 2012. “DEAP : Evolutionary Algorithms Made Easy.” Journal of Machine Learning Research 13: 2171–75. https://doi.org/10.1.1.413.6512."
   ]
  },
  {
   "cell_type": "code",
   "execution_count": null,
   "metadata": {},
   "outputs": [],
   "source": []
  }
 ],
 "metadata": {
  "kernelspec": {
   "display_name": "Python 3",
   "language": "python",
   "name": "python3"
  },
  "language_info": {
   "codemirror_mode": {
    "name": "ipython",
    "version": 3
   },
   "file_extension": ".py",
   "mimetype": "text/x-python",
   "name": "python",
   "nbconvert_exporter": "python",
   "pygments_lexer": "ipython3",
   "version": "3.6.5"
  }
 },
 "nbformat": 4,
 "nbformat_minor": 2
}
